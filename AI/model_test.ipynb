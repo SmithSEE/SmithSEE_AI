{
 "cells": [
  {
   "cell_type": "code",
   "execution_count": 6,
   "id": "7c3b66ba",
   "metadata": {},
   "outputs": [],
   "source": [
    "import pandas as pd\n",
    "from sklearn.model_selection import train_test_split\n",
    "\n",
    "# 데이터셋을 로드한다.\n",
    "df = pd.read_csv(\"../merged_dataset.csv\")\n",
    "\n",
    "# 우선 훈련데이터, 검증데이터, 테스트데이터로 나눠야 함\n",
    "# 먼저 train / temp 로 나눔 (stratify로 비율 유지)\n",
    "train_df, temp_df = train_test_split(\n",
    "    df,\n",
    "    test_size=0.3,\n",
    "    stratify=df[\"label\"],\n",
    "    random_state=42\n",
    ")\n",
    "\n",
    "# temp 데이터를 다시 validation / test 로 나눔\n",
    "val_df, test_df = train_test_split(\n",
    "    temp_df,\n",
    "    test_size=0.5,\n",
    "    stratify=temp_df[\"label\"],\n",
    "    random_state=42\n",
    ")\n",
    "\n",
    "# CSV 파일로 저장\n",
    "train_df.to_csv(\"train.csv\", index=False)\n",
    "val_df.to_csv(\"val.csv\", index=False)\n",
    "test_df.to_csv(\"test.csv\", index=False)"
   ]
  },
  {
   "cell_type": "markdown",
   "id": "03310651",
   "metadata": {},
   "source": [
    "## 예측 모델 학습"
   ]
  },
  {
   "cell_type": "code",
   "execution_count": null,
   "id": "99df97b4",
   "metadata": {},
   "outputs": [],
   "source": [
    "from transformers import AutoTokenizer, AutoModelForSequenceClassification, Trainer, TrainingArguments\n",
    "from datasets import Dataset\n",
    "import pandas as pd\n",
    "import os\n",
    "os.environ[\"WANDB_DISABLED\"] = \"true\"\n",
    "\n",
    "# 1. 모델과 토크나이저 로드\n",
    "model_name = \"bert-base-multilingual-cased\"\n",
    "tokenizer = AutoTokenizer.from_pretrained(model_name)\n",
    "model = AutoModelForSequenceClassification.from_pretrained(model_name, num_labels=2)\n",
    "\n",
    "# 2. pandas로 데이터 로드\n",
    "train_df = pd.read_csv(\"train.csv\")\n",
    "val_df = pd.read_csv(\"val.csv\")\n",
    "\n",
    "# 3. HuggingFace Dataset으로 변환\n",
    "train_dataset = Dataset.from_pandas(train_df)\n",
    "val_dataset = Dataset.from_pandas(val_df)\n",
    "\n",
    "# 4. 토크나이징 함수 정의\n",
    "def tokenize_fn(example):\n",
    "    return tokenizer(example[\"text\"], padding=\"max_length\", truncation=True, max_length=128)\n",
    "\n",
    "# 5. 토크나이징 적용\n",
    "train_tokenized = train_dataset.map(tokenize_fn)\n",
    "val_tokenized = val_dataset.map(tokenize_fn)\n",
    "\n",
    "# 6. 학습 설정\n",
    "training_args = TrainingArguments(\n",
    "    output_dir=\"./bert-smishing-model\",\n",
    "    num_train_epochs=3,\n",
    "    per_device_train_batch_size=8,\n",
    "    per_device_eval_batch_size=8,\n",
    "    logging_dir=\"./logs\"\n",
    ")\n",
    "\n",
    "\n",
    "# 7. Trainer 구성 및 학습\n",
    "trainer = Trainer(\n",
    "    model=model,\n",
    "    args=training_args,\n",
    "    train_dataset=train_tokenized,\n",
    "    eval_dataset=val_tokenized,\n",
    ")\n",
    "\n",
    "trainer.train()\n",
    "\n",
    "# 8. 모델 저장\n",
    "trainer.save_model(\"./bert-smishing-model\")\n",
    "tokenizer.save_pretrained(\"./bert-smishing-model\")\n"
   ]
  },
  {
   "cell_type": "markdown",
   "id": "c67221b0",
   "metadata": {},
   "source": [
    "## test.csv 로 테스트 실행"
   ]
  },
  {
   "cell_type": "code",
   "execution_count": null,
   "id": "2b46bb83",
   "metadata": {},
   "outputs": [],
   "source": [
    "from sklearn.metrics import classification_report\n",
    "import numpy as np\n",
    "\n",
    "# test.csv 불러오기\n",
    "test_df = pd.read_csv(\"test.csv\")\n",
    "test_dataset = Dataset.from_pandas(test_df)\n",
    "\n",
    "# 토크나이징\n",
    "def tokenize_fn(example):\n",
    "    return tokenizer(example[\"text\"], padding=\"max_length\", truncation=True, max_length=128)\n",
    "\n",
    "tokenized_test = test_dataset.map(tokenize_fn)\n",
    "\n",
    "# 예측\n",
    "predictions = trainer.predict(tokenized_test)\n",
    "y_pred = np.argmax(predictions.predictions, axis=1)\n",
    "y_true = predictions.label_ids\n",
    "\n",
    "# 결과 출력\n",
    "print(classification_report(y_true, y_pred, target_names=[\"정상\", \"스미싱\"]))\n"
   ]
  },
  {
   "cell_type": "markdown",
   "id": "a6f6d8e0",
   "metadata": {},
   "source": [
    "## 단일 추론 테스트"
   ]
  },
  {
   "cell_type": "code",
   "execution_count": null,
   "id": "d174daa9",
   "metadata": {},
   "outputs": [],
   "source": [
    "from transformers import pipeline\n",
    "\n",
    "# 파이프라인 로딩\n",
    "classifier = pipeline(\"text-classification\", model=\"./bert-smishing-model\", tokenizer=\"./bert-smishing-model\")\n",
    "\n",
    "# 예제 추론\n",
    "result = classifier(\"[Web발신] 국세청 환급금 조회 링크를 클릭하세요 http://scam.link\")\n",
    "print(result)"
   ]
  },
  {
   "cell_type": "code",
   "execution_count": null,
   "id": "20936a0d",
   "metadata": {},
   "outputs": [],
   "source": [
    "# 예제 추론\n",
    "result = classifier(\"[SK텔레콤] 이심(eSIM) 무료 간편 교체 안내드립니다.[Web발신][SKT] 이심(eSIM) 무료 간편 교체 안내 유심 교체를 예약해 주신 고객님께 안내드립니다. 고객님은 현재 이심(eSIM)으로 교체 가능한 기기를 사용하고 계십니다. 이심 또는 유심 교체 중 고객님께서 원하시는 방식을 선택하실 수 있습니다. 이심은 휴대폰에 내장된 디지털 SIM을 이용하는 방식으로 유심과 동일한 역할을 합니다. 이심 교체를 신청하시면 유심을 기다리거나 매장에 방문하실 필요 없이 바로 교체하실 수 있습니다. ■ 이심 간편 교체 안내 - 1회 교체 비용은 무료입니다. - 이심 교체가 완료되면 유심 교체 예약은 자동으로 취소됩니다. * 이심 교체 가능 시간: 월~토요일 오전 8시~오후 9시 (공휴일 제외) ■ 이심 교체 전 확인 사항 - Wi-Fi가 연결된 상태에서 신청 가능합니다. - 연락처 백업, 티머니 잔액 확인, 다른 SIM 사용 제한 해지(기존에 설정한 고객님) 등은 아래 URL의 유의 사항을 확인해 주시기 바랍니다. ▶ 이심 간편 교체 신청 바로 가기: https://m.shop.tworld.co.kr/nf/index_nf_yp_change.html 자세한 설명이 필요하시면 T 월드 웹/앱 또는 고객센터에 문의해 주시기 바랍니다. ■ 문의: 고객센터 1525(무료) 이용에 불편함이 없도록 최선을 다하겠습니다. SK텔레콤 드림\")\n",
    "print(result)"
   ]
  }
 ],
 "metadata": {
  "kernelspec": {
   "display_name": "langchain-env",
   "language": "python",
   "name": "python3"
  },
  "language_info": {
   "codemirror_mode": {
    "name": "ipython",
    "version": 3
   },
   "file_extension": ".py",
   "mimetype": "text/x-python",
   "name": "python",
   "nbconvert_exporter": "python",
   "pygments_lexer": "ipython3",
   "version": "3.10.16"
  }
 },
 "nbformat": 4,
 "nbformat_minor": 5
}
