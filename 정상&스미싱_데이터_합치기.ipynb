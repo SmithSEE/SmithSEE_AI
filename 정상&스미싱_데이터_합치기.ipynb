{
  "nbformat": 4,
  "nbformat_minor": 0,
  "metadata": {
    "colab": {
      "provenance": []
    },
    "kernelspec": {
      "name": "python3",
      "display_name": "Python 3"
    },
    "language_info": {
      "name": "python"
    }
  },
  "cells": [
    {
      "cell_type": "code",
      "execution_count": 13,
      "metadata": {
        "id": "fmW9JVeWXXVd"
      },
      "outputs": [],
      "source": [
        "import pandas as pd\n",
        "import re\n",
        "\n",
        "# 데이터 불러오기\n",
        "df_smishing = pd.read_csv('smishing.csv')\n",
        "df_smishing = df_smishing[['Result']].copy()\n",
        "df_smishing.rename(columns={'Result': 'text'}, inplace=True)\n",
        "df_smishing['label'] = 1\n",
        "\n",
        "# 정상 메시지 추출\n",
        "ko_list = []\n",
        "with open('normal.json', 'r', encoding='utf-8', errors='ignore') as f:\n",
        "    for line in f:\n",
        "        match = re.search(r'\"ko_original\"\\s*:\\s*\"([^\"]+)\"', line)\n",
        "        if match:\n",
        "            sentence = match.group(1)\n",
        "            sentence = re.sub('^>+', '', sentence).strip()\n",
        "            if len(sentence) >= 15:  # 글자 수 기준 설정\n",
        "                ko_list.append(sentence)\n",
        "        if len(ko_list) >= len(df_smishing):  # 2,842개만 수집\n",
        "            break\n",
        "\n",
        "# 정상 메시지 DataFrame\n",
        "df_normal = pd.DataFrame({'text': ko_list})\n",
        "df_normal['label'] = 0\n",
        "\n",
        "# 4. 합치기\n",
        "df = pd.concat([df_smishing, df_normal], ignore_index=True)\n",
        "\n",
        "# 5. 셔플\n",
        "df = df.sample(frac=1).reset_index(drop=True)\n",
        "\n",
        "# 6. 저장\n",
        "df.to_csv('merged_dataset.csv', index=False)\n"
      ]
    }
  ]
}