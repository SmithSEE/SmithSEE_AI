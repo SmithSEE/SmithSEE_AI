{
  "nbformat": 4,
  "nbformat_minor": 0,
  "metadata": {
    "colab": {
      "provenance": []
    },
    "kernelspec": {
      "name": "python3",
      "display_name": "Python 3"
    },
    "language_info": {
      "name": "python"
    }
  },
  "cells": [
    {
      "cell_type": "code",
      "execution_count": 1,
      "metadata": {
        "colab": {
          "base_uri": "https://localhost:8080/"
        },
        "id": "e0UG3Ix9f5mg",
        "outputId": "c596640c-284d-49ba-f408-0b9c48cfd089"
      },
      "outputs": [
        {
          "output_type": "stream",
          "name": "stdout",
          "text": [
            "Collecting git+https://github.com/ssut/py-hanspell.git\n",
            "  Cloning https://github.com/ssut/py-hanspell.git to /tmp/pip-req-build-4v1klns3\n",
            "  Running command git clone --filter=blob:none --quiet https://github.com/ssut/py-hanspell.git /tmp/pip-req-build-4v1klns3\n",
            "  Resolved https://github.com/ssut/py-hanspell.git to commit fdc6ca50c19f1c85971437a072d89d4e5ce024b8\n",
            "  Preparing metadata (setup.py) ... \u001b[?25l\u001b[?25hdone\n",
            "Requirement already satisfied: requests in /usr/local/lib/python3.11/dist-packages (from py-hanspell==1.1) (2.32.3)\n",
            "Requirement already satisfied: charset-normalizer<4,>=2 in /usr/local/lib/python3.11/dist-packages (from requests->py-hanspell==1.1) (3.4.2)\n",
            "Requirement already satisfied: idna<4,>=2.5 in /usr/local/lib/python3.11/dist-packages (from requests->py-hanspell==1.1) (3.10)\n",
            "Requirement already satisfied: urllib3<3,>=1.21.1 in /usr/local/lib/python3.11/dist-packages (from requests->py-hanspell==1.1) (2.4.0)\n",
            "Requirement already satisfied: certifi>=2017.4.17 in /usr/local/lib/python3.11/dist-packages (from requests->py-hanspell==1.1) (2025.4.26)\n"
          ]
        }
      ],
      "source": [
        "!pip install git+https://github.com/ssut/py-hanspell.git"
      ]
    },
    {
      "cell_type": "code",
      "source": [
        "!pip install git+https://github.com/haven-jeon/PyKoSpacing.git"
      ],
      "metadata": {
        "colab": {
          "base_uri": "https://localhost:8080/",
          "height": 993
        },
        "id": "nqexiJWQf9sD",
        "outputId": "915e0a00-5d2d-4bbb-a521-7aa2d5178afa"
      },
      "execution_count": 2,
      "outputs": [
        {
          "output_type": "stream",
          "name": "stdout",
          "text": [
            "Collecting git+https://github.com/haven-jeon/PyKoSpacing.git\n",
            "  Cloning https://github.com/haven-jeon/PyKoSpacing.git to /tmp/pip-req-build-i633w0p0\n",
            "  Running command git clone --filter=blob:none --quiet https://github.com/haven-jeon/PyKoSpacing.git /tmp/pip-req-build-i633w0p0\n",
            "  Resolved https://github.com/haven-jeon/PyKoSpacing.git to commit b32a889cbd10b006d2f4aba118f0cd5b677e2979\n",
            "  Preparing metadata (setup.py) ... \u001b[?25l\u001b[?25hdone\n",
            "Requirement already satisfied: tensorflow>=2.16.2 in /usr/local/lib/python3.11/dist-packages (from pykospacing==0.5) (2.18.0)\n",
            "Requirement already satisfied: h5py>=3.10.0 in /usr/local/lib/python3.11/dist-packages (from pykospacing==0.5) (3.13.0)\n",
            "Collecting argparse>=1.1.0 (from pykospacing==0.5)\n",
            "  Using cached argparse-1.4.0-py2.py3-none-any.whl.metadata (2.8 kB)\n",
            "Requirement already satisfied: numpy>=1.19.3 in /usr/local/lib/python3.11/dist-packages (from h5py>=3.10.0->pykospacing==0.5) (2.0.2)\n",
            "Requirement already satisfied: absl-py>=1.0.0 in /usr/local/lib/python3.11/dist-packages (from tensorflow>=2.16.2->pykospacing==0.5) (1.4.0)\n",
            "Requirement already satisfied: astunparse>=1.6.0 in /usr/local/lib/python3.11/dist-packages (from tensorflow>=2.16.2->pykospacing==0.5) (1.6.3)\n",
            "Requirement already satisfied: flatbuffers>=24.3.25 in /usr/local/lib/python3.11/dist-packages (from tensorflow>=2.16.2->pykospacing==0.5) (25.2.10)\n",
            "Requirement already satisfied: gast!=0.5.0,!=0.5.1,!=0.5.2,>=0.2.1 in /usr/local/lib/python3.11/dist-packages (from tensorflow>=2.16.2->pykospacing==0.5) (0.6.0)\n",
            "Requirement already satisfied: google-pasta>=0.1.1 in /usr/local/lib/python3.11/dist-packages (from tensorflow>=2.16.2->pykospacing==0.5) (0.2.0)\n",
            "Requirement already satisfied: libclang>=13.0.0 in /usr/local/lib/python3.11/dist-packages (from tensorflow>=2.16.2->pykospacing==0.5) (18.1.1)\n",
            "Requirement already satisfied: opt-einsum>=2.3.2 in /usr/local/lib/python3.11/dist-packages (from tensorflow>=2.16.2->pykospacing==0.5) (3.4.0)\n",
            "Requirement already satisfied: packaging in /usr/local/lib/python3.11/dist-packages (from tensorflow>=2.16.2->pykospacing==0.5) (24.2)\n",
            "Requirement already satisfied: protobuf!=4.21.0,!=4.21.1,!=4.21.2,!=4.21.3,!=4.21.4,!=4.21.5,<6.0.0dev,>=3.20.3 in /usr/local/lib/python3.11/dist-packages (from tensorflow>=2.16.2->pykospacing==0.5) (5.29.4)\n",
            "Requirement already satisfied: requests<3,>=2.21.0 in /usr/local/lib/python3.11/dist-packages (from tensorflow>=2.16.2->pykospacing==0.5) (2.32.3)\n",
            "Requirement already satisfied: setuptools in /usr/local/lib/python3.11/dist-packages (from tensorflow>=2.16.2->pykospacing==0.5) (75.2.0)\n",
            "Requirement already satisfied: six>=1.12.0 in /usr/local/lib/python3.11/dist-packages (from tensorflow>=2.16.2->pykospacing==0.5) (1.17.0)\n",
            "Requirement already satisfied: termcolor>=1.1.0 in /usr/local/lib/python3.11/dist-packages (from tensorflow>=2.16.2->pykospacing==0.5) (3.1.0)\n",
            "Requirement already satisfied: typing-extensions>=3.6.6 in /usr/local/lib/python3.11/dist-packages (from tensorflow>=2.16.2->pykospacing==0.5) (4.13.2)\n",
            "Requirement already satisfied: wrapt>=1.11.0 in /usr/local/lib/python3.11/dist-packages (from tensorflow>=2.16.2->pykospacing==0.5) (1.17.2)\n",
            "Requirement already satisfied: grpcio<2.0,>=1.24.3 in /usr/local/lib/python3.11/dist-packages (from tensorflow>=2.16.2->pykospacing==0.5) (1.71.0)\n",
            "Requirement already satisfied: tensorboard<2.19,>=2.18 in /usr/local/lib/python3.11/dist-packages (from tensorflow>=2.16.2->pykospacing==0.5) (2.18.0)\n",
            "Requirement already satisfied: keras>=3.5.0 in /usr/local/lib/python3.11/dist-packages (from tensorflow>=2.16.2->pykospacing==0.5) (3.8.0)\n",
            "Requirement already satisfied: ml-dtypes<0.5.0,>=0.4.0 in /usr/local/lib/python3.11/dist-packages (from tensorflow>=2.16.2->pykospacing==0.5) (0.4.1)\n",
            "Requirement already satisfied: tensorflow-io-gcs-filesystem>=0.23.1 in /usr/local/lib/python3.11/dist-packages (from tensorflow>=2.16.2->pykospacing==0.5) (0.37.1)\n",
            "Requirement already satisfied: wheel<1.0,>=0.23.0 in /usr/local/lib/python3.11/dist-packages (from astunparse>=1.6.0->tensorflow>=2.16.2->pykospacing==0.5) (0.45.1)\n",
            "Requirement already satisfied: rich in /usr/local/lib/python3.11/dist-packages (from keras>=3.5.0->tensorflow>=2.16.2->pykospacing==0.5) (13.9.4)\n",
            "Requirement already satisfied: namex in /usr/local/lib/python3.11/dist-packages (from keras>=3.5.0->tensorflow>=2.16.2->pykospacing==0.5) (0.0.9)\n",
            "Requirement already satisfied: optree in /usr/local/lib/python3.11/dist-packages (from keras>=3.5.0->tensorflow>=2.16.2->pykospacing==0.5) (0.15.0)\n",
            "Requirement already satisfied: charset-normalizer<4,>=2 in /usr/local/lib/python3.11/dist-packages (from requests<3,>=2.21.0->tensorflow>=2.16.2->pykospacing==0.5) (3.4.2)\n",
            "Requirement already satisfied: idna<4,>=2.5 in /usr/local/lib/python3.11/dist-packages (from requests<3,>=2.21.0->tensorflow>=2.16.2->pykospacing==0.5) (3.10)\n",
            "Requirement already satisfied: urllib3<3,>=1.21.1 in /usr/local/lib/python3.11/dist-packages (from requests<3,>=2.21.0->tensorflow>=2.16.2->pykospacing==0.5) (2.4.0)\n",
            "Requirement already satisfied: certifi>=2017.4.17 in /usr/local/lib/python3.11/dist-packages (from requests<3,>=2.21.0->tensorflow>=2.16.2->pykospacing==0.5) (2025.4.26)\n",
            "Requirement already satisfied: markdown>=2.6.8 in /usr/local/lib/python3.11/dist-packages (from tensorboard<2.19,>=2.18->tensorflow>=2.16.2->pykospacing==0.5) (3.8)\n",
            "Requirement already satisfied: tensorboard-data-server<0.8.0,>=0.7.0 in /usr/local/lib/python3.11/dist-packages (from tensorboard<2.19,>=2.18->tensorflow>=2.16.2->pykospacing==0.5) (0.7.2)\n",
            "Requirement already satisfied: werkzeug>=1.0.1 in /usr/local/lib/python3.11/dist-packages (from tensorboard<2.19,>=2.18->tensorflow>=2.16.2->pykospacing==0.5) (3.1.3)\n",
            "Requirement already satisfied: MarkupSafe>=2.1.1 in /usr/local/lib/python3.11/dist-packages (from werkzeug>=1.0.1->tensorboard<2.19,>=2.18->tensorflow>=2.16.2->pykospacing==0.5) (3.0.2)\n",
            "Requirement already satisfied: markdown-it-py>=2.2.0 in /usr/local/lib/python3.11/dist-packages (from rich->keras>=3.5.0->tensorflow>=2.16.2->pykospacing==0.5) (3.0.0)\n",
            "Requirement already satisfied: pygments<3.0.0,>=2.13.0 in /usr/local/lib/python3.11/dist-packages (from rich->keras>=3.5.0->tensorflow>=2.16.2->pykospacing==0.5) (2.19.1)\n",
            "Requirement already satisfied: mdurl~=0.1 in /usr/local/lib/python3.11/dist-packages (from markdown-it-py>=2.2.0->rich->keras>=3.5.0->tensorflow>=2.16.2->pykospacing==0.5) (0.1.2)\n",
            "Using cached argparse-1.4.0-py2.py3-none-any.whl (23 kB)\n",
            "Installing collected packages: argparse\n",
            "Successfully installed argparse-1.4.0\n"
          ]
        },
        {
          "output_type": "display_data",
          "data": {
            "application/vnd.colab-display-data+json": {
              "pip_warning": {
                "packages": [
                  "argparse"
                ]
              },
              "id": "f220de719b784162b9a60db9e6e6d932"
            }
          },
          "metadata": {}
        }
      ]
    },
    {
      "cell_type": "code",
      "source": [
        "import pandas as pd\n",
        "\n",
        "# 전처리된 CSV 로드\n",
        "df = pd.read_csv(\"smishing_original.csv\")\n",
        "\n",
        "# 제거 대상 키워드 목록\n",
        "keywords = [\n",
        "    \"택배\", \"카드 신청\", \"반품\", \"보관\", \"수거\",\n",
        "    \"현관\", \"발급\", \"우편물\", \"우편함\", \"우편\", r\"(배송\\s?예정|배달\\s?예정)\",\n",
        "    \"배송\"\n",
        "]\n",
        "\n",
        "# 각 키워드에 대해 \"국제|국외\"가 포함되지 않은 경우만 제거\n",
        "for keyword in keywords:\n",
        "    condition = df[\"CN\"].str.contains(keyword, na=False) & ~df[\"CN\"].str.contains(\"국제|국외\", na=False)\n",
        "    df = df[~condition].copy()\n",
        "\n",
        "#중복제거\n",
        "df = df.drop_duplicates(subset=[\"CN\"]).copy()\n",
        "\n",
        "# 저장\n",
        "df.to_csv(\"keyword_smishing.csv\", index=False, encoding=\"utf-8-sig\")\n",
        "print(\"전처리 완료: keyword_smishing.csv 저장됨\")"
      ],
      "metadata": {
        "id": "WaHh8Ankf_QR",
        "colab": {
          "base_uri": "https://localhost:8080/"
        },
        "outputId": "75183fb4-7bda-42ba-bb05-0db7aee0c256"
      },
      "execution_count": 3,
      "outputs": [
        {
          "output_type": "stream",
          "name": "stderr",
          "text": [
            "<ipython-input-3-ddfc5e1f600b>:15: UserWarning: This pattern is interpreted as a regular expression, and has match groups. To actually get the groups, use str.extract.\n",
            "  condition = df[\"CN\"].str.contains(keyword, na=False) & ~df[\"CN\"].str.contains(\"국제|국외\", na=False)\n"
          ]
        },
        {
          "output_type": "stream",
          "name": "stdout",
          "text": [
            "전처리 완료: keyword_smishing.csv 저장됨\n"
          ]
        }
      ]
    },
    {
      "cell_type": "code",
      "source": [
        "# 데이터 받아오기\n",
        "\n",
        "import pandas as pd\n",
        "import re\n",
        "from pykospacing import Spacing # 띄어쓰기 !pip install git+https://github.com/haven-jeon/PyKoSpacing.git\n",
        "from hanspell import spell_checker\n",
        "from tqdm import tqdm\n",
        "\n",
        "tqdm.pandas()\n",
        "spacing = Spacing()\n",
        "\n",
        "df = pd.read_csv(\"keyword_smishing.csv\")\n",
        "spacing = Spacing()\n",
        "\n",
        "# 맞춤법 교정 함수\n",
        "def safe_spell_check(text):\n",
        "    try:\n",
        "        if isinstance(text, str) and 1 < len(text) <= 500:\n",
        "            result = spell_checker.check(text)\n",
        "            if hasattr(result, 'checked'):\n",
        "                return result.checked\n",
        "    except:\n",
        "        pass\n",
        "    return text\n",
        "\n",
        "# 전처리 함수\n",
        "def preprocess_text(text):\n",
        "\n",
        "  ## 의미 없는 문자열 \"ifg@\" 제거\n",
        "  text = text.replace(\"ifg@\", \"\")\n",
        "\n",
        "  ## url >> URL로 치환 | https나 http나 www로 시작하는 url 치환\n",
        "  text = re.sub(r\"(https?://|http?://|www\\.)[^\\s]+\", \"URL\", text)\n",
        "\n",
        "  ## 마스킹된 날짜를 DATE로 치환\n",
        "  # yyyy년 MM월 dd일\n",
        "  text = re.sub(r\"\\d{4}년\\s?\\d{1,2}월\\s?\\d{1,2}일\", \"DATE\", text)\n",
        "\n",
        "  # MM월 dd일\n",
        "  text = re.sub(r\"\\d{1,2}월\\s?\\d{1,2}일\", \"DATE\", text)\n",
        "\n",
        "  # dd일만 나오는 경우 (예: \"오늘 30일까지만 가능\")\n",
        "  text = re.sub(r\"\\d{1,2}일\", \"DATE\", text)\n",
        "\n",
        "  # yy년만 나오는 경우\n",
        "  text = re.sub(r\"\\d{1,2}년\", \"DATE\", text)\n",
        "\n",
        "  # MM월만 나오는 경우\n",
        "  text = re.sub(r\"\\d{1,2}월\", \"DATE\", text)\n",
        "\n",
        "  # yy년 MM월만 나오는 경우\n",
        "  text = re.sub(r\"\\d{1,2}년\\s?\\d{1,2}월\", \"DATE\", text)\n",
        "\n",
        "  # MM/dd(일) 만 나오는 경우\n",
        "  text = re.sub(r\"\\d{1,2}/\\d{1,2}\\(.\\)\", \"DATE\", text)\n",
        "\n",
        "  # MM/dd(요일)\n",
        "  text = re.sub(r\"\\d{1,2}/\\d{1,2}\\(\\w+\\)\", \"DATE\", text)\n",
        "\n",
        "  ## 마스킹된 시간을 TIME으로 치환\n",
        "  # **:** 시:분 만 나오는 경우\n",
        "  text = re.sub(r\"\\d{2}:\\d{2}\", \"TIME\", text)\n",
        "\n",
        "  # *시 **시 *-*시간 *시간 *시~**시 **시-**시 **시 ~ **시 *시~**시 *시** *시-**시 **시~**시\n",
        "  text = re.sub(r\"\\*{1,2}시\", \"TIME\", text)\n",
        "  text = re.sub(r\"\\*{1,2}시간\", \"TIME\", text)\n",
        "  text = re.sub(r\"\\*{1,2}시\\s*[\\-~]\\s*\\*{1,2}시\", \"TIME\", text)\n",
        "\n",
        "  # L*TT* >> LOTTO로 치환\n",
        "  text = re.sub(r\"L\\*TT\\*\", \"로또\", text)\n",
        "\n",
        "\n",
        "  ## 전화번호 및 *로 마스킹된 숫자를 전부 NUM으로 치환\n",
        "  # 연속된 *, 숫자, -, _, 공백, 쉼표가 포함된 마스킹 형태 전부를 하나의 'NUM'으로 통일\n",
        "  text = re.sub(r\"[\\*\\d,\\-_\\s]{6,}\", \"NUM\", text)\n",
        "\n",
        "  # 한글,알파벳,공백을 제외한 나머지 문자 제거\n",
        "  text = re.sub(r\"[^가-힣a-zA-Z0-9\\s]\", \"\", text)\n",
        "\n",
        "\n",
        "  # 띄어쓰기 보정\n",
        "  text = spacing(text)\n",
        "\n",
        "  # 맞춤법 보정\n",
        "  text = safe_spell_check(text)\n",
        "\n",
        "  return text\n",
        "\n",
        "\n",
        "df[\"clean_df\"] = df[\"CN\"].progress_apply(preprocess_text)\n",
        "\n",
        "df.to_csv(\"smishing_clean.csv\", index=False, encoding=\"utf-8-sig\")"
      ],
      "metadata": {
        "colab": {
          "base_uri": "https://localhost:8080/"
        },
        "id": "c5fMyu6Sg83U",
        "outputId": "629646b4-bcdb-43ee-8db1-50b02b13eba2"
      },
      "execution_count": 4,
      "outputs": [
        {
          "output_type": "stream",
          "name": "stderr",
          "text": [
            "100%|██████████| 12210/12210 [55:36<00:00,  3.66it/s]\n"
          ]
        }
      ]
    }
  ]
}