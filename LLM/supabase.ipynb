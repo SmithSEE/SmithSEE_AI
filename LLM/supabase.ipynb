{
 "cells": [
  {
   "cell_type": "code",
   "execution_count": 5,
   "id": "3e5c4e34",
   "metadata": {},
   "outputs": [
    {
     "ename": "ModuleNotFoundError",
     "evalue": "No module named 'langchain_community'",
     "output_type": "error",
     "traceback": [
      "\u001b[0;31m---------------------------------------------------------------------------\u001b[0m",
      "\u001b[0;31mModuleNotFoundError\u001b[0m                       Traceback (most recent call last)",
      "Cell \u001b[0;32mIn[5], line 4\u001b[0m\n\u001b[1;32m      2\u001b[0m \u001b[38;5;28;01mimport\u001b[39;00m \u001b[38;5;21;01mpandas\u001b[39;00m \u001b[38;5;28;01mas\u001b[39;00m \u001b[38;5;21;01mpd\u001b[39;00m\n\u001b[1;32m      3\u001b[0m \u001b[38;5;28;01mfrom\u001b[39;00m \u001b[38;5;21;01mdotenv\u001b[39;00m \u001b[38;5;28;01mimport\u001b[39;00m load_dotenv\n\u001b[0;32m----> 4\u001b[0m \u001b[38;5;28;01mfrom\u001b[39;00m \u001b[38;5;21;01mlangchain_community\u001b[39;00m\u001b[38;5;21;01m.\u001b[39;00m\u001b[38;5;21;01mvectorstores\u001b[39;00m \u001b[38;5;28;01mimport\u001b[39;00m SupabaseVectorStore\n\u001b[1;32m      5\u001b[0m \u001b[38;5;28;01mfrom\u001b[39;00m \u001b[38;5;21;01mlangchain_openai\u001b[39;00m \u001b[38;5;28;01mimport\u001b[39;00m OpenAIEmbeddings\n\u001b[1;32m      6\u001b[0m \u001b[38;5;28;01mfrom\u001b[39;00m \u001b[38;5;21;01mlangchain_core\u001b[39;00m\u001b[38;5;21;01m.\u001b[39;00m\u001b[38;5;21;01mdocuments\u001b[39;00m \u001b[38;5;28;01mimport\u001b[39;00m Document\n",
      "\u001b[0;31mModuleNotFoundError\u001b[0m: No module named 'langchain_community'"
     ]
    }
   ],
   "source": [
    "import os\n",
    "import pandas as pd\n",
    "from dotenv import load_dotenv\n",
    "from langchain_community.vectorstores import SupabaseVectorStore\n",
    "from langchain_openai import OpenAIEmbeddings\n",
    "from langchain_core.documents import Document\n",
    "from supabase import create_client\n",
    "\n",
    "# 1. 환경변수 불러오기\n",
    "load_dotenv()\n",
    "supabase_url = os.getenv(\"SUPABASE_URL\")\n",
    "supabase_key = os.getenv(\"SUPABASE_SERVICE_KEY\")\n",
    "openai_key = os.getenv(\"OPENAI_API_KEY\")\n",
    "\n",
    "# 2. Supabase & 임베딩 & 벡터스토어 설정\n",
    "supabase_client = create_client(supabase_url, supabase_key)\n",
    "embedding = OpenAIEmbeddings(openai_api_key=openai_key)\n",
    "vectorstore = SupabaseVectorStore(\n",
    "    client=supabase_client,\n",
    "    embedding=embedding,\n",
    "    table_name=\"messages\",\n",
    "    query_name=\"match_documents\"\n",
    ")\n",
    "\n",
    "# 3. 기업명-전화번호 딕셔너리 정의\n",
    "CUSTOMER_SERVICE_NUMBERS = {\n",
    "    \"질병관리청\": \"1339\", \"국민건강보험공단\": \"1577-1000\", \"국세청\": \"126\",\n",
    "    \"KB국민은행\": \"1588-9999\", \"신한은행\": \"1577-8000\", \"우리은행\": \"1588-5000\",\n",
    "    \"삼성카드\": \"1588-8700\", \"KT\": \"100\", \"카카오\": \"1577-3754\", \"네이버\": \"1588-3819\",\n",
    "    \"쿠팡\": \"1577-7011\", \"배달의민족\": \"1600-0987\", \"CJ대한통운\": \"1588-1255\"\n",
    "    # 필요시 계속 추가\n",
    "}\n",
    "\n",
    "# 4. 고객센터 번호 매핑 함수\n",
    "def get_customer_number(text):\n",
    "    for org, phone in CUSTOMER_SERVICE_NUMBERS.items():\n",
    "        if org in text:\n",
    "            return phone\n",
    "    return None\n",
    "\n",
    "# 5. CSV 불러오기 (사용자 파일명으로 교체)\n",
    "df = pd.read_csv(\"datas.csv\")  # ← 여기에 실제 파일명 입력\n",
    "docs = []\n",
    "\n",
    "for _, row in df.iterrows():\n",
    "    text = str(row[\"text\"])\n",
    "    label = int(row[\"label\"])\n",
    "    phone = get_customer_number(text)\n",
    "\n",
    "    metadata = {\"label\": label}\n",
    "    if phone:\n",
    "        metadata[\"전화번호\"] = phone\n",
    "\n",
    "    docs.append(Document(page_content=text, metadata=metadata))\n",
    "\n",
    "# 6. Supabase에 벡터 저장\n",
    "vectorstore.add_documents(docs)\n",
    "print(f\"✅ 총 {len(docs)}건의 문서가 Supabase에 저장되었습니다.\")\n"
   ]
  },
  {
   "cell_type": "code",
   "execution_count": null,
   "id": "d03a7684",
   "metadata": {},
   "outputs": [],
   "source": []
  }
 ],
 "metadata": {
  "kernelspec": {
   "display_name": "base",
   "language": "python",
   "name": "python3"
  },
  "language_info": {
   "codemirror_mode": {
    "name": "ipython",
    "version": 3
   },
   "file_extension": ".py",
   "mimetype": "text/x-python",
   "name": "python",
   "nbconvert_exporter": "python",
   "pygments_lexer": "ipython3",
   "version": "3.12.4"
  }
 },
 "nbformat": 4,
 "nbformat_minor": 5
}
